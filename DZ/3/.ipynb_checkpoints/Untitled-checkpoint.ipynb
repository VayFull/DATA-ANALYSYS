{
 "cells": [
  {
   "cell_type": "code",
   "execution_count": 7,
   "metadata": {},
   "outputs": [],
   "source": [
    "import pandas as pd"
   ]
  },
  {
   "cell_type": "code",
   "execution_count": 11,
   "metadata": {},
   "outputs": [],
   "source": [
    "data = pd.read_csv('ORGANICS.csv', encoding=\"cp1251\")"
   ]
  },
  {
   "cell_type": "code",
   "execution_count": 12,
   "metadata": {},
   "outputs": [],
   "source": [
    "import numpy as np\n",
    "import pylab as pl\n",
    "import matplotlib.pyplot as plt\n",
    "plt.style.use('ggplot')\n",
    "%matplotlib inline\n",
    "import seaborn as sns\n"
   ]
  },
  {
   "cell_type": "code",
   "execution_count": 20,
   "metadata": {},
   "outputs": [
    {
     "name": "stdout",
     "output_type": "stream",
     "text": [
      "(22223, 13)\n",
      "<class 'pandas.core.frame.DataFrame'>\n",
      "RangeIndex: 22223 entries, 0 to 22222\n",
      "Data columns (total 13 columns):\n",
      "ID                 22223 non-null int64\n",
      "DemAffl            21138 non-null float64\n",
      "DemAge             20715 non-null float64\n",
      "DemCluster         21549 non-null float64\n",
      "DemClusterGroup    21549 non-null object\n",
      "DemGender          19711 non-null object\n",
      "DemReg             21758 non-null object\n",
      "DemTVReg           21758 non-null object\n",
      "PromClass          22223 non-null object\n",
      "PromSpend          22223 non-null float64\n",
      "PromTime           21942 non-null float64\n",
      "TargetBuy          22223 non-null int64\n",
      "TargetAmt          22223 non-null int64\n",
      "dtypes: float64(5), int64(3), object(5)\n",
      "memory usage: 2.2+ MB\n",
      "None\n"
     ]
    }
   ],
   "source": [
    "print(data.shape) \n",
    "print(data.info())\n",
    "\n",
    "dataRemove=data.dropna()\n",
    "dataMedian=data.fillna(data.mean())"
   ]
  },
  {
   "cell_type": "code",
   "execution_count": 65,
   "metadata": {},
   "outputs": [],
   "source": [
    "xR=dataRemove[['DemAffl',  'DemAge', 'DemCluster', 'PromSpend', 'PromTime']]\n",
    "yR=dataRemove.values[::,11]\n",
    "xM=dataMedian[['DemAffl',  'DemAge', 'DemCluster', 'PromSpend', 'PromTime']]\n",
    "yM=dataMedian.values[::,11]\n",
    "yR=yR.astype('int')\n",
    "yM=yM.astype('int')\n"
   ]
  },
  {
   "cell_type": "code",
   "execution_count": 66,
   "metadata": {},
   "outputs": [],
   "source": [
    "from sklearn.model_selection import train_test_split\n",
    "X_train, X_test, y_train, y_test = train_test_split(xR, yR, test_size=0.3)\n",
    "XM_train, XM_test, yM_train, yM_test = train_test_split(xM, yM, test_size=0.3)\n"
   ]
  },
  {
   "cell_type": "code",
   "execution_count": 67,
   "metadata": {},
   "outputs": [
    {
     "data": {
      "text/plain": [
       "DecisionTreeClassifier(class_weight=None, criterion='gini', max_depth=4,\n",
       "                       max_features=None, max_leaf_nodes=None,\n",
       "                       min_impurity_decrease=0.0, min_impurity_split=None,\n",
       "                       min_samples_leaf=1, min_samples_split=2,\n",
       "                       min_weight_fraction_leaf=0.0, presort=False,\n",
       "                       random_state=0, splitter='best')"
      ]
     },
     "execution_count": 67,
     "metadata": {},
     "output_type": "execute_result"
    }
   ],
   "source": [
    "from sklearn.tree import DecisionTreeClassifier\n",
    "tree1=DecisionTreeClassifier(max_depth=4, random_state=0)\n",
    "tree1.fit(X_train, y_train)\n",
    "tree2=DecisionTreeClassifier(max_depth=4, random_state=0)\n",
    "tree2.fit(XM_train, yM_train)\n"
   ]
  },
  {
   "cell_type": "code",
   "execution_count": 70,
   "metadata": {},
   "outputs": [
    {
     "name": "stdout",
     "output_type": "stream",
     "text": [
      "0.8011319111885068\n",
      "0.8003250050782044\n",
      "0.803548470043713\n",
      "0.8008099595020249\n"
     ]
    }
   ],
   "source": [
    "from sklearn.tree import export_graphviz\n",
    "\n",
    "import subprocess\n",
    "\n",
    "export_graphviz(tree1, out_file='C:/Users/kv4sn/Documents/DATA-ANALYSYS/DZ/3/Output/Organics_treeR.dot', \n",
    "               rounded = True, proportion = False, \n",
    "                precision = 2, filled = True)\n",
    "\n",
    "export_graphviz(tree2, out_file='C:/Users/kv4sn/Documents/DATA-ANALYSYS/DZ/3/Output/Organics_treeM.dot', \n",
    "               rounded = True, proportion = False, \n",
    "                precision = 2, filled = True)\n",
    "\n",
    "import pydot\n",
    "(graphR, ) = pydot.graph_from_dot_file('C:/Users/kv4sn/Documents/DATA-ANALYSYS/DZ/3/Output/Organics_treeR.dot')\n",
    "\n",
    "(graphM, ) = pydot.graph_from_dot_file('C:/Users/kv4sn/Documents/DATA-ANALYSYS/DZ/3/Output/Organics_treeM.dot')\n",
    "\n",
    "graphR.write_png('C:/Users/kv4sn/Documents/DATA-ANALYSYS/DZ/3/Output/Organics_treeR.png')\n",
    "graphM.write_png('C:/Users/kv4sn/Documents/DATA-ANALYSYS/DZ/3/Output/Organics_treeM.png')\n",
    "\n",
    "print(tree.score(X_train, y_train)) \n",
    "print(tree.score(X_test,y_test)) \n",
    "\n",
    "print(tree.score(XM_train, yM_train)) \n",
    "print(tree.score(XM_test,yM_test)) "
   ]
  },
  {
   "cell_type": "code",
   "execution_count": 77,
   "metadata": {},
   "outputs": [
    {
     "name": "stdout",
     "output_type": "stream",
     "text": [
      "0.8009577710056596\n",
      "0.7980905951655495\n"
     ]
    }
   ],
   "source": [
    "#DZ1\n",
    "#Обучите решающее дерево с параметрами criterion = entropy и max_depth =5.\n",
    "#Какую точность дает данное дерево на контроле? Визуализируйте разделяющую поверхность.\n",
    "tree=DecisionTreeClassifier(max_depth=5, criterion='entropy')\n",
    "tree.fit(X_train, y_train)\n",
    "\n",
    "print(tree.score(X_train, y_train)) \n",
    "print(tree.score(X_test,y_test))\n",
    "\n",
    "export_graphviz(tree1, out_file='C:/Users/kv4sn/Documents/DATA-ANALYSYS/DZ/3/Output/task1.dot', \n",
    "               rounded = True, proportion = False, \n",
    "                precision = 2, filled = True)\n",
    "(graphR, ) = pydot.graph_from_dot_file('C:/Users/kv4sn/Documents/DATA-ANALYSYS/DZ/3/Output/task1.dot')\n",
    "graphR.write_png('C:/Users/kv4sn/Documents/DATA-ANALYSYS/DZ/3/Output/task1.png')"
   ]
  },
  {
   "cell_type": "code",
   "execution_count": 99,
   "metadata": {},
   "outputs": [
    {
     "data": {
      "text/html": [
       "<div>\n",
       "<style scoped>\n",
       "    .dataframe tbody tr th:only-of-type {\n",
       "        vertical-align: middle;\n",
       "    }\n",
       "\n",
       "    .dataframe tbody tr th {\n",
       "        vertical-align: top;\n",
       "    }\n",
       "\n",
       "    .dataframe thead th {\n",
       "        text-align: right;\n",
       "    }\n",
       "</style>\n",
       "<table border=\"1\" class=\"dataframe\">\n",
       "  <thead>\n",
       "    <tr style=\"text-align: right;\">\n",
       "      <th></th>\n",
       "      <th>1</th>\n",
       "      <th>2</th>\n",
       "      <th>3</th>\n",
       "      <th>4</th>\n",
       "      <th>5</th>\n",
       "    </tr>\n",
       "  </thead>\n",
       "  <tbody>\n",
       "    <tr>\n",
       "      <td>1</td>\n",
       "      <td>0.760906</td>\n",
       "      <td>0.760906</td>\n",
       "      <td>0.760906</td>\n",
       "      <td>0.760906</td>\n",
       "      <td>0.760906</td>\n",
       "    </tr>\n",
       "    <tr>\n",
       "      <td>2</td>\n",
       "      <td>0.790248</td>\n",
       "      <td>0.790248</td>\n",
       "      <td>0.790248</td>\n",
       "      <td>0.790248</td>\n",
       "      <td>0.790248</td>\n",
       "    </tr>\n",
       "    <tr>\n",
       "      <td>3</td>\n",
       "      <td>0.795298</td>\n",
       "      <td>0.795298</td>\n",
       "      <td>0.795298</td>\n",
       "      <td>0.795298</td>\n",
       "      <td>0.795298</td>\n",
       "    </tr>\n",
       "    <tr>\n",
       "      <td>4</td>\n",
       "      <td>0.799042</td>\n",
       "      <td>0.798955</td>\n",
       "      <td>0.798955</td>\n",
       "      <td>0.798955</td>\n",
       "      <td>0.798955</td>\n",
       "    </tr>\n",
       "    <tr>\n",
       "      <td>5</td>\n",
       "      <td>0.801045</td>\n",
       "      <td>0.800871</td>\n",
       "      <td>0.800871</td>\n",
       "      <td>0.800871</td>\n",
       "      <td>0.800871</td>\n",
       "    </tr>\n",
       "  </tbody>\n",
       "</table>\n",
       "</div>"
      ],
      "text/plain": [
       "          1         2         3         4         5\n",
       "1  0.760906  0.760906  0.760906  0.760906  0.760906\n",
       "2  0.790248  0.790248  0.790248  0.790248  0.790248\n",
       "3  0.795298  0.795298  0.795298  0.795298  0.795298\n",
       "4  0.799042  0.798955  0.798955  0.798955  0.798955\n",
       "5  0.801045  0.800871  0.800871  0.800871  0.800871"
      ]
     },
     "execution_count": 99,
     "metadata": {},
     "output_type": "execute_result"
    }
   ],
   "source": [
    "#DZ1\n",
    "#Выполните предыдущий пункт для разных значений глубины дерева и минимального числа объектов в \n",
    "#листе (параметры max_depth и min_samples_leaf). Результаты запишите в виде таблицы.  \n",
    "#Как эти параметры влияют на вид разделяющей поверхности и точность модели?\n",
    "\n",
    "npData = np.zeros((5,5),dtype=float)\n",
    "for depth in range(1,6):\n",
    "    for leaf in range(1,6):\n",
    "        tree=DecisionTreeClassifier(max_depth=depth, min_samples_leaf=leaf)\n",
    "        tree.fit(X_train, y_train)\n",
    "        npData[depth-1,leaf-1]=tree.score(X_train, y_train)\n",
    "df = pd.DataFrame(data=npData, index=[\"1\", \"2\", \"3\", \"4\", \"5\"], \n",
    "                  columns=[\"1\", \"2\", \"3\", \"4\", \"5\"])\n",
    "df"
   ]
  },
  {
   "cell_type": "code",
   "execution_count": 100,
   "metadata": {},
   "outputs": [],
   "source": [
    "#DZ2\n",
    "#Построить дерево решений для датасетов по вариантам, оформить блокноты с описанием задачи, признаков:\n",
    "#а) titanic.csv  (Описание https://www.kaggle.com/c/titanic/data)\n",
    "\n"
   ]
  },
  {
   "cell_type": "code",
   "execution_count": 132,
   "metadata": {},
   "outputs": [
    {
     "name": "stdout",
     "output_type": "stream",
     "text": [
      "<class 'pandas.core.frame.DataFrame'>\n",
      "RangeIndex: 887 entries, 0 to 886\n",
      "Data columns (total 8 columns):\n",
      "Survived                   887 non-null int64\n",
      "Pclass                     887 non-null int64\n",
      "Name                       887 non-null object\n",
      "Sex                        887 non-null object\n",
      "Age                        887 non-null float64\n",
      "Siblings/Spouses Aboard    887 non-null int64\n",
      "Parents/Children Aboard    887 non-null int64\n",
      "Fare                       887 non-null float64\n",
      "dtypes: float64(2), int64(4), object(2)\n",
      "memory usage: 55.6+ KB\n",
      "Полный список переменных модели:\n",
      "0.7225806451612903\n",
      "0.6891385767790262\n"
     ]
    }
   ],
   "source": [
    "from IPython.display import Image\n",
    "from IPython.core.display import HTML\n",
    "\n",
    "data = pd.read_csv('titanic.csv', encoding=\"cp1251\")\n",
    "data.info()\n",
    "\n",
    "print(\"Полный список переменных модели:\")\n",
    "\n",
    "Image(filename = \"variables.png\", width=100, height=100)\n",
    "\n",
    "#Пропусков в данных нет\n",
    "\n",
    "x=data[['Pclass',  'Age', 'Siblings/Spouses Aboard', 'Parents/Children Aboard']]\n",
    "y=data.values[::,0]\n",
    "y=y.astype('int')\n",
    "\n",
    "X_train, X_test, y_train, y_test = train_test_split(x, y, test_size=0.3)\n",
    "\n",
    "tree=DecisionTreeClassifier(max_depth=3, random_state=1)\n",
    "tree.fit(X_train, y_train)\n",
    "\n",
    "export_graphviz(tree, out_file='C:/Users/kv4sn/Documents/DATA-ANALYSYS/DZ/3/Output/task2.dot', \n",
    "               rounded = True, proportion = False, \n",
    "                precision = 2, filled = True)\n",
    "\n",
    "(graph, ) = pydot.graph_from_dot_file('C:/Users/kv4sn/Documents/DATA-ANALYSYS/DZ/3/Output/task2.dot')\n",
    "\n",
    "graph.write_png('C:/Users/kv4sn/Documents/DATA-ANALYSYS/DZ/3/Output/task2.png')\n",
    "\n",
    "print(tree.score(X_train, y_train))\n",
    "print(tree.score(X_test, y_test)) \n"
   ]
  },
  {
   "cell_type": "code",
   "execution_count": 118,
   "metadata": {},
   "outputs": [],
   "source": []
  },
  {
   "cell_type": "code",
   "execution_count": null,
   "metadata": {},
   "outputs": [],
   "source": []
  }
 ],
 "metadata": {
  "kernelspec": {
   "display_name": "Python 3",
   "language": "python",
   "name": "python3"
  },
  "language_info": {
   "codemirror_mode": {
    "name": "ipython",
    "version": 3
   },
   "file_extension": ".py",
   "mimetype": "text/x-python",
   "name": "python",
   "nbconvert_exporter": "python",
   "pygments_lexer": "ipython3",
   "version": "3.7.4"
  }
 },
 "nbformat": 4,
 "nbformat_minor": 2
}
